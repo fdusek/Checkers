{
 "cells": [
  {
   "cell_type": "code",
   "execution_count": 23,
   "metadata": {
    "collapsed": false
   },
   "outputs": [],
   "source": [
    "import sqlite3\n",
    "import os"
   ]
  },
  {
   "cell_type": "code",
   "execution_count": 34,
   "metadata": {
    "collapsed": false
   },
   "outputs": [],
   "source": [
    "os.remove('checkers_cache.db')\n",
    "conn = sqlite3.connect('checkers_cache.db')\n",
    "c = conn.cursor()\n",
    "c.execute(\"CREATE TABLE IF NOT EXISTS cache (hash INT PRIMARY KEY, depth INT, score REAL)\")\n",
    "c.execute(\"INSERT INTO cache VALUES (12,20,35.14)\")\n",
    "c.executemany(\"INSERT OR REPLACE INTO cache VALUES(?, ?, ?)\", [(1, 1, 1), (2, 2, 2), (3, 3, 3)])\n",
    "conn.commit()\n",
    "conn.close()"
   ]
  },
  {
   "cell_type": "code",
   "execution_count": 35,
   "metadata": {
    "collapsed": false
   },
   "outputs": [
    {
     "name": "stdout",
     "output_type": "stream",
     "text": [
      "[(12, 20, 35.14), (1, 1, 1.0), (2, 2, 2.0), (3, 3, 3.0)]\n"
     ]
    }
   ],
   "source": [
    "import sqlite3\n",
    "conn = sqlite3.connect('checkers_cache.db')\n",
    "c = conn.cursor()\n",
    "c.execute(\"SELECT * FROM cache\")\n",
    "a = c.fetchall() \n",
    "print(a)\n",
    "conn.close()"
   ]
  },
  {
   "cell_type": "code",
   "execution_count": 3,
   "metadata": {
    "collapsed": false
   },
   "outputs": [
    {
     "ename": "ProgrammingError",
     "evalue": "Cannot operate on a closed database.",
     "output_type": "error",
     "traceback": [
      "\u001b[1;31m---------------------------------------------------------------------------\u001b[0m",
      "\u001b[1;31mProgrammingError\u001b[0m                          Traceback (most recent call last)",
      "\u001b[1;32m<ipython-input-3-df8532cfbf16>\u001b[0m in \u001b[0;36m<module>\u001b[1;34m()\u001b[0m\n\u001b[1;32m----> 1\u001b[1;33m \u001b[0mc\u001b[0m\u001b[1;33m.\u001b[0m\u001b[0mfetchone\u001b[0m\u001b[1;33m(\u001b[0m\u001b[1;33m)\u001b[0m\u001b[1;33m\u001b[0m\u001b[0m\n\u001b[0m",
      "\u001b[1;31mProgrammingError\u001b[0m: Cannot operate on a closed database."
     ]
    }
   ],
   "source": [
    "c.fetchone()"
   ]
  },
  {
   "cell_type": "code",
   "execution_count": 32,
   "metadata": {
    "collapsed": false
   },
   "outputs": [],
   "source": [
    "conn = sqlite3.connect('checkers_cache.db')\n",
    "c = conn.cursor()\n",
    "c.execute(\"DELETE FROM cache\")\n",
    "conn.commit()\n",
    "conn.close()"
   ]
  },
  {
   "cell_type": "code",
   "execution_count": 20,
   "metadata": {
    "collapsed": true
   },
   "outputs": [],
   "source": [
    "for i in range(0, 1000000):\n",
    "    c.execute(\"INSERT INTO cache VALUES (?, ?, ?)\", (i, i, i))\n",
    "conn.commit()"
   ]
  },
  {
   "cell_type": "code",
   "execution_count": 1,
   "metadata": {
    "collapsed": false
   },
   "outputs": [],
   "source": [
    "import sqlite3\n",
    "import os\n",
    "\n",
    "class Cache(object):\n",
    "    def __init__(self, commit_every):\n",
    "        self.commit_every = commit_every\n",
    "        self.buffer = {}\n",
    "        #os.remove(\"checkers_cache.db\")\n",
    "        self.conn = sqlite3.connect('checkers_cache.db')\n",
    "        self.c = self.conn.cursor()\n",
    "        self.c.execute(\"CREATE TABLE IF NOT EXISTS cache (hash INT PRIMARY KEY, depth INT, score REAL)\")\n",
    "        self.conn.commit()\n",
    "\n",
    "    def add(self, board, score, depth):\n",
    "        self.buffer[board] = (depth, score)\n",
    "        if len(self.buffer) >= self.commit_every:\n",
    "            self.commit()\n",
    "\n",
    "    def commit(self):\n",
    "        vals = [(item.__hash__(), key[0], key[1])  for item, key in self.buffer.items()]\n",
    "        self.c.executemany(\"INSERT OR REPLACE INTO cache VALUES (?, ?, ?)\", vals)\n",
    "        self.buffer = {}\n",
    "        self.conn.commit()\n",
    "        print(\"commited\")\n",
    "        \n",
    "\n",
    "    def get(self, b):\n",
    "        if b in self.buffer:\n",
    "            return self.buffer[b]\n",
    "        else:\n",
    "            self.c.execute(\"SELECT * FROM cache WHERE hash = \" + str(b.__hash__()))\n",
    "            result = self.c.fetchone()\n",
    "            return result if result is None else (result[1], result[2]) # returns None if nothing found_"
   ]
  },
  {
   "cell_type": "code",
   "execution_count": 2,
   "metadata": {
    "collapsed": false
   },
   "outputs": [],
   "source": [
    "ch = Cache(7)"
   ]
  },
  {
   "cell_type": "code",
   "execution_count": 3,
   "metadata": {
    "collapsed": false
   },
   "outputs": [],
   "source": [
    "ch.add(\"ac\", 1, 0)\n",
    "ch.add(\"bc\", 3, 2)\n",
    "ch.add(\"cc\", 2, 9)\n",
    "ch.add(\"dc\", 4, 1)\n",
    "ch.add(\"ec\", 5, 2)\n",
    "ch.add(\"fc\", 7, 5)"
   ]
  },
  {
   "cell_type": "code",
   "execution_count": 1,
   "metadata": {
    "collapsed": true
   },
   "outputs": [],
   "source": [
    "a = {\"1\": {\"4\": {\"type\": \"piece white\", \"next_moves\": []}}, \"3\": {\"4\": {\"type\": \"piece white\", \"next_moves\": []}}, \"4\": {\"7\": {\"type\": \"piece white\", \"next_moves\": []}}, \"5\": {\"0\": {\"type\": \"piece black\", \"next_moves\": []}, \"2\": {\"type\": \"piece black\", \"next_moves\": []}}, \"6\": {\"1\": {\"type\": \"piece black\", \"next_moves\": []}, \"3\": {\"type\": \"piece white\", \"next_moves\": [[4, 1]]}, \"7\": {\"type\": \"piece white\", \"next_moves\": []}}, \"7\": {\"2\": {\"type\": \"piece white\", \"next_moves\": []}, \"4\": {\"type\": \"piece white\", \"next_moves\": []}, \"6\": {\"type\": \"piece white\", \"next_moves\": []}}}"
   ]
  },
  {
   "cell_type": "code",
   "execution_count": 2,
   "metadata": {
    "collapsed": false
   },
   "outputs": [
    {
     "data": {
      "text/plain": [
       "{'1': {'4': {'next_moves': [], 'type': 'piece white'}},\n",
       " '3': {'4': {'next_moves': [], 'type': 'piece white'}},\n",
       " '4': {'7': {'next_moves': [], 'type': 'piece white'}},\n",
       " '5': {'0': {'next_moves': [], 'type': 'piece black'},\n",
       "  '2': {'next_moves': [], 'type': 'piece black'}},\n",
       " '6': {'1': {'next_moves': [], 'type': 'piece black'},\n",
       "  '3': {'next_moves': [[4, 1]], 'type': 'piece white'},\n",
       "  '7': {'next_moves': [], 'type': 'piece white'}},\n",
       " '7': {'2': {'next_moves': [], 'type': 'piece white'},\n",
       "  '4': {'next_moves': [], 'type': 'piece white'},\n",
       "  '6': {'next_moves': [], 'type': 'piece white'}}}"
      ]
     },
     "execution_count": 2,
     "metadata": {},
     "output_type": "execute_result"
    }
   ],
   "source": [
    "a"
   ]
  },
  {
   "cell_type": "code",
   "execution_count": 6,
   "metadata": {
    "collapsed": false
   },
   "outputs": [
    {
     "data": {
      "text/plain": [
       "Black plays\n",
       "   0 1 2 3 4 5 6 7 \n",
       " 0   _   b   _   b   \n",
       " 1 _   b   _   b   \n",
       " 2   _   b   b   b   \n",
       " 3 _   b   _   _   \n",
       " 4   _   _   _   _   \n",
       " 5 w   w   w   w   \n",
       " 6   w   _   _   w   \n",
       " 7 w   w   w   _   "
      ]
     },
     "execution_count": 6,
     "metadata": {},
     "output_type": "execute_result"
    }
   ],
   "source": [
    "import json\n",
    "from helpers import *\n",
    "from search import *\n",
    "jsn = \"\"\"\n",
    "{\"next_state\":{\"0\":{\"1\":{\"type\":\"promoted piece white \",\"next_moves\":[]},\"5\":{\"type\":\"piece black \",\"next_moves\":[]},\"7\":{\"type\":\"piece black \",\"next_moves\":[]}},\"1\":{\"6\":{\"type\":\"piece black \",\"next_moves\":[]}},\"2\":{\"1\":{\"type\":\"piece white \",\"next_moves\":[]},\"5\":{\"type\":\"piece black \",\"next_moves\":[]},\"7\":{\"type\":\"piece black \",\"next_moves\":[]}},\"3\":{\"2\":{\"type\":\"piece white \",\"next_moves\":[]},\"6\":{\"type\":\"piece black \",\"next_moves\":[]}},\"4\":{\"7\":{\"type\":\"piece white \",\"next_moves\":[]}},\"5\":{\"4\":{\"type\":\"piece white \",\"next_moves\":[]},\"6\":{\"type\":\"piece white \",\"next_moves\":[]}},\"6\":{\"1\":{\"type\":\"piece white \",\"next_moves\":[]},\"3\":{\"type\":\"piece white \",\"next_moves\":[]},\"7\":{\"type\":\"piece white \",\"next_moves\":[]}},\"7\":{\"0\":{\"type\":\"piece white \",\"next_moves\":[]},\"2\":{\"type\":\"piece white \",\"next_moves\":[]},\"4\":{\"type\":\"piece white \",\"next_moves\":[]},\"6\":{\"type\":\"piece white \",\"next_moves\":[]}}},\"end_coord\":[5,6]}\n",
    "\"\"\"\n",
    "bjson = json.loads('{\"next_state\":{\"0\":{\"3\":{\"next_moves\":[],\"type\":\"piece black \"},\"7\":{\"next_moves\":[],\"type\":\"piece black \"}},\"1\":{\"2\":{\"next_moves\":[],\"type\":\"piece black \"},\"6\":{\"next_moves\":[],\"type\":\"piece black \"}},\"2\":{\"3\":{\"next_moves\":[],\"type\":\"piece black \"},\"5\":{\"next_moves\":[],\"type\":\"piece black \"},\"7\":{\"next_moves\":[],\"type\":\"piece black \"}},\"3\":{\"2\":{\"next_moves\":[],\"type\":\"piece black \"}},\"5\":{\"0\":{\"next_moves\":[],\"type\":\"piece white \"},\"2\":{\"next_moves\":[],\"type\":\"piece white \"},\"4\":{\"next_moves\":[],\"type\":\"piece white \"},\"6\":{\"next_moves\":[],\"type\":\"piece white \"}},\"6\":{\"1\":{\"next_moves\":[],\"type\":\"piece white \"},\"7\":{\"next_moves\":[],\"type\":\"piece white \"}},\"7\":{\"0\":{\"next_moves\":[],\"type\":\"piece white \"},\"2\":{\"next_moves\":[],\"type\":\"piece white \"},\"4\":{\"next_moves\":[],\"type\":\"piece white \"}}},\"end_coord\":[5,4]}')\n",
    "b = jsontoboard(bjson[\"next_state\"], False)\n",
    "moves = get_moves(b)\n",
    "b"
   ]
  },
  {
   "cell_type": "code",
   "execution_count": 2,
   "metadata": {
    "collapsed": false
   },
   "outputs": [
    {
     "data": {
      "text/plain": [
       "3.0"
      ]
     },
     "execution_count": 2,
     "metadata": {},
     "output_type": "execute_result"
    }
   ],
   "source": [
    "alphabeta(weird, 4)"
   ]
  },
  {
   "cell_type": "code",
   "execution_count": 15,
   "metadata": {
    "collapsed": false
   },
   "outputs": [
    {
     "data": {
      "text/plain": [
       "white plays\n",
       "   0 1 2 3 4 5 6 7 \n",
       " 0   _   b   _   b   \n",
       " 1 _   b   _   b   \n",
       " 2   _   b   b   b   \n",
       " 3 _   _   _   _   \n",
       " 4   _   b   _   _   \n",
       " 5 w   w   w   w   \n",
       " 6   w   _   _   w   \n",
       " 7 w   w   w   _   "
      ]
     },
     "execution_count": 15,
     "metadata": {},
     "output_type": "execute_result"
    }
   ],
   "source": [
    "weird"
   ]
  },
  {
   "cell_type": "code",
   "execution_count": 14,
   "metadata": {
    "collapsed": false
   },
   "outputs": [
    {
     "data": {
      "text/plain": [
       "3.0"
      ]
     },
     "execution_count": 14,
     "metadata": {},
     "output_type": "execute_result"
    }
   ],
   "source": [
    "alphabeta(weird, 3)"
   ]
  },
  {
   "cell_type": "code",
   "execution_count": 4,
   "metadata": {
    "collapsed": false
   },
   "outputs": [
    {
     "name": "stdout",
     "output_type": "stream",
     "text": [
      "Counter({<Piece_type.white: 1>: 9, <Piece_type.black: 2>: 8})\n",
      "Counter({<Piece_type.white: 1>: 9, <Piece_type.black: 2>: 6})\n"
     ]
    },
    {
     "data": {
      "text/plain": [
       "3"
      ]
     },
     "execution_count": 4,
     "metadata": {},
     "output_type": "execute_result"
    }
   ],
   "source": [
    " score_board(weird)\n",
    "score_board(get_moves(weird)[0].get_board())"
   ]
  },
  {
   "cell_type": "code",
   "execution_count": 21,
   "metadata": {
    "collapsed": false
   },
   "outputs": [
    {
     "data": {
      "text/plain": [
       "1"
      ]
     },
     "execution_count": 21,
     "metadata": {},
     "output_type": "execute_result"
    }
   ],
   "source": [
    " score_board(get_moves(nonweird)[0].get_board())"
   ]
  },
  {
   "cell_type": "code",
   "execution_count": null,
   "metadata": {
    "collapsed": true
   },
   "outputs": [],
   "source": []
  }
 ],
 "metadata": {
  "kernelspec": {
   "display_name": "Python 3",
   "language": "python",
   "name": "python3"
  },
  "language_info": {
   "codemirror_mode": {
    "name": "ipython",
    "version": 3
   },
   "file_extension": ".py",
   "mimetype": "text/x-python",
   "name": "python",
   "nbconvert_exporter": "python",
   "pygments_lexer": "ipython3",
   "version": "3.5.1"
  }
 },
 "nbformat": 4,
 "nbformat_minor": 0
}
